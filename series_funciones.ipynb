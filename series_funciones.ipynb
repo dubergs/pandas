{
 "cells": [
  {
   "cell_type": "code",
   "execution_count": 1,
   "id": "845c4c44",
   "metadata": {},
   "outputs": [],
   "source": [
    "import pandas as pd"
   ]
  },
  {
   "cell_type": "code",
   "execution_count": 5,
   "id": "3cec2315",
   "metadata": {},
   "outputs": [
    {
     "data": {
      "text/plain": [
       "np.int64(45)"
      ]
     },
     "execution_count": 5,
     "metadata": {},
     "output_type": "execute_result"
    }
   ],
   "source": [
    "#Sumar los valores de una serie\n",
    "numeros = pd.Series([1,2,3,4,5,6,7,8,9])\n",
    "numeros.sum()"
   ]
  },
  {
   "cell_type": "code",
   "execution_count": null,
   "id": "180f7297",
   "metadata": {},
   "outputs": [
    {
     "data": {
      "text/plain": [
       "np.int64(9)"
      ]
     },
     "execution_count": 8,
     "metadata": {},
     "output_type": "execute_result"
    }
   ],
   "source": [
    "#Extraer el numero mas alto de la serie\n",
    "numeros.max()"
   ]
  },
  {
   "cell_type": "code",
   "execution_count": 12,
   "id": "d641a50c",
   "metadata": {},
   "outputs": [
    {
     "data": {
      "text/plain": [
       "np.int64(1)"
      ]
     },
     "execution_count": 12,
     "metadata": {},
     "output_type": "execute_result"
    }
   ],
   "source": [
    "#Extraer el numero mas bajo de la serie\n",
    "numeros.min()"
   ]
  },
  {
   "cell_type": "code",
   "execution_count": 17,
   "id": "2370b1c1",
   "metadata": {},
   "outputs": [
    {
     "name": "stdout",
     "output_type": "stream",
     "text": [
      "Fisica      8\n",
      "Español    10\n",
      "dtype: int64\n"
     ]
    }
   ],
   "source": [
    "#Filtrado de valores en series\n",
    "materias = pd.Series({'Ingles': 5, 'Fisica': 8, 'Español': 10, 'Quimica': 3})\n",
    "print(materias[materias > 5])"
   ]
  },
  {
   "cell_type": "code",
   "execution_count": 21,
   "id": "ff8fb7c6",
   "metadata": {},
   "outputs": [
    {
     "data": {
      "text/plain": [
       "Español    10\n",
       "Fisica      8\n",
       "Ingles      5\n",
       "Quimica     3\n",
       "dtype: int64"
      ]
     },
     "execution_count": 21,
     "metadata": {},
     "output_type": "execute_result"
    }
   ],
   "source": [
    "#Ordenar las serie de forma ascendente\n",
    "materias.sort_index(ascending=True)"
   ]
  },
  {
   "cell_type": "code",
   "execution_count": 24,
   "id": "216311bc",
   "metadata": {},
   "outputs": [
    {
     "data": {
      "text/plain": [
       "0    10\n",
       "1    10\n",
       "2    10\n",
       "3    10\n",
       "4    10\n",
       "5    10\n",
       "dtype: int64"
      ]
     },
     "execution_count": 24,
     "metadata": {},
     "output_type": "execute_result"
    }
   ],
   "source": [
    "#Valor escalar\n",
    "data = 10\n",
    "serie = pd.Series(data, index=[0,1,2,3,4,5])\n",
    "serie"
   ]
  },
  {
   "cell_type": "code",
   "execution_count": null,
   "id": "b8c9fb08",
   "metadata": {},
   "outputs": [
    {
     "data": {
      "text/plain": [
       "Lionel Messi           Barcelona\n",
       "Cristiano Ronaldo    Real Madrid\n",
       "Kylian Mbappe                PSG\n",
       "dtype: object"
      ]
     },
     "execution_count": 26,
     "metadata": {},
     "output_type": "execute_result"
    }
   ],
   "source": [
    "#Serie relacionando dos listas\n",
    "jugadores = ['Lionel Messi', 'Cristiano Ronaldo', 'Kylian Mbappe']\n",
    "equipos = ['Barcelona', 'Real Madrid', 'PSG']\n",
    "relacion = pd.Series(index=jugadores, data=equipos)\n",
    "relacion"
   ]
  },
  {
   "cell_type": "code",
   "execution_count": null,
   "id": "b6615da5",
   "metadata": {},
   "outputs": [],
   "source": []
  }
 ],
 "metadata": {
  "kernelspec": {
   "display_name": "Python 3",
   "language": "python",
   "name": "python3"
  },
  "language_info": {
   "codemirror_mode": {
    "name": "ipython",
    "version": 3
   },
   "file_extension": ".py",
   "mimetype": "text/x-python",
   "name": "python",
   "nbconvert_exporter": "python",
   "pygments_lexer": "ipython3",
   "version": "3.13.2"
  }
 },
 "nbformat": 4,
 "nbformat_minor": 5
}
