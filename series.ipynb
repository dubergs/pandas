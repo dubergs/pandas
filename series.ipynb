{
 "cells": [
  {
   "cell_type": "code",
   "execution_count": 2,
   "id": "36da6849",
   "metadata": {},
   "outputs": [],
   "source": [
    "import pandas as pd"
   ]
  },
  {
   "cell_type": "code",
   "execution_count": 18,
   "id": "c3eabe0f",
   "metadata": {},
   "outputs": [
    {
     "data": {
      "text/plain": [
       "0    Amarillo\n",
       "1       Verde\n",
       "2        Azul\n",
       "3        Rojo\n",
       "dtype: object"
      ]
     },
     "execution_count": 18,
     "metadata": {},
     "output_type": "execute_result"
    }
   ],
   "source": [
    "#Creacion de una serie a partir de una lista\n",
    "colores = pd.Series(['Amarillo', 'Verde', 'Azul', 'Rojo'])\n",
    "colores"
   ]
  },
  {
   "cell_type": "code",
   "execution_count": 24,
   "id": "e5c2601f",
   "metadata": {},
   "outputs": [
    {
     "data": {
      "text/plain": [
       "Sociales     50\n",
       "Fisica       80\n",
       "Español     100\n",
       "dtype: int64"
      ]
     },
     "execution_count": 24,
     "metadata": {},
     "output_type": "execute_result"
    }
   ],
   "source": [
    "#Creacion de una serie a partir de un diccionario\n",
    "materias = pd.Series({'Sociales': 50, 'Fisica': 80, 'Español': 100})\n",
    "materias"
   ]
  },
  {
   "cell_type": "code",
   "execution_count": 26,
   "id": "e92a4f85",
   "metadata": {},
   "outputs": [
    {
     "data": {
      "text/plain": [
       "Fisica      80\n",
       "Español    100\n",
       "dtype: int64"
      ]
     },
     "execution_count": 26,
     "metadata": {},
     "output_type": "execute_result"
    }
   ],
   "source": [
    "#Extraer datos de la serie\n",
    "materias[1:3]"
   ]
  },
  {
   "cell_type": "code",
   "execution_count": 27,
   "id": "9878821e",
   "metadata": {},
   "outputs": [
    {
     "data": {
      "text/plain": [
       "0     2\n",
       "1     4\n",
       "2     6\n",
       "3     8\n",
       "4    10\n",
       "5    12\n",
       "dtype: int64"
      ]
     },
     "execution_count": 27,
     "metadata": {},
     "output_type": "execute_result"
    }
   ],
   "source": [
    "#Operaciones\n",
    "numeros = pd.Series([1,2,3,4,5,6])\n",
    "numeros * 2"
   ]
  }
 ],
 "metadata": {
  "kernelspec": {
   "display_name": "Python 3",
   "language": "python",
   "name": "python3"
  },
  "language_info": {
   "codemirror_mode": {
    "name": "ipython",
    "version": 3
   },
   "file_extension": ".py",
   "mimetype": "text/x-python",
   "name": "python",
   "nbconvert_exporter": "python",
   "pygments_lexer": "ipython3",
   "version": "3.13.2"
  }
 },
 "nbformat": 4,
 "nbformat_minor": 5
}
